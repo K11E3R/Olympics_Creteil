{
 "cells": [
  {
   "cell_type": "code",
   "execution_count": 1,
   "metadata": {},
   "outputs": [],
   "source": [
    "from PIL import Image, ImageEnhance\n",
    "import pytesseract\n",
    "import pandas as pd\n",
    "import numpy as np\n",
    "import re\n",
    "import cv2"
   ]
  },
  {
   "cell_type": "code",
   "execution_count": 2,
   "metadata": {},
   "outputs": [],
   "source": [
    "img = Image.open('data_collector.jpeg')"
   ]
  },
  {
   "cell_type": "code",
   "execution_count": 3,
   "metadata": {},
   "outputs": [],
   "source": [
    "\n",
    "image_path = 'data_collector.jpeg'\n",
    "image = cv2.imread(image_path)"
   ]
  },
  {
   "cell_type": "code",
   "execution_count": 4,
   "metadata": {},
   "outputs": [],
   "source": [
    "gray = cv2.cvtColor(image, cv2.COLOR_BGR2GRAY)"
   ]
  },
  {
   "cell_type": "code",
   "execution_count": 5,
   "metadata": {},
   "outputs": [],
   "source": [
    "\n",
    "enhanced_image = Image.fromarray(gray)\n",
    "enhancer = ImageEnhance.Contrast(enhanced_image)\n",
    "enhanced_image = enhancer.enhance(4)"
   ]
  },
  {
   "cell_type": "code",
   "execution_count": 6,
   "metadata": {},
   "outputs": [],
   "source": [
    "enhanced_image = np.array(enhanced_image)\n",
    "\n",
    "denoised_image = cv2.fastNlMeansDenoising(enhanced_image, None, 30, 7, 21)\n",
    "\n",
    "resized_image = cv2.resize(denoised_image, None, fx=2,fy=2, interpolation=cv2.INTER_CUBIC)\n",
    "\n",
    "_, thresholded_image = cv2.threshold(resized_image, 0, 255, cv2.THRESH_BINARY + cv2.THRESH_OTSU)"
   ]
  },
  {
   "cell_type": "code",
   "execution_count": 7,
   "metadata": {},
   "outputs": [
    {
     "data": {
      "text/plain": [
       "True"
      ]
     },
     "execution_count": 7,
     "metadata": {},
     "output_type": "execute_result"
    }
   ],
   "source": [
    "processed_image_path = 'processed_image.jpg'\n",
    "\n",
    "cv2.imwrite(processed_image_path, thresholded_image)"
   ]
  },
  {
   "cell_type": "code",
   "execution_count": 8,
   "metadata": {},
   "outputs": [],
   "source": [
    "custom_config = r'--oem 3 --psm 6'\n",
    "extracted_text = pytesseract.image_to_string(thresholded_image, config=custom_config, lang='eng')"
   ]
  },
  {
   "cell_type": "code",
   "execution_count": 9,
   "metadata": {},
   "outputs": [
    {
     "name": "stdout",
     "output_type": "stream",
     "text": [
      "Extracted Text:\n",
      " od TERRAIN BEACH HAND | TERRAINHAND 6] DEAMBULATION] AUTRES]\n",
      "|__i0n [Ouverture Pubhe\n",
      "[i0n-18h [Animation mur digitale -Photabooth - KR cola LS SS es es a BOT TT\n",
      "[10h-16h [stand maquilage - leu avec dotation biletterie 10 SS SS SS OS RG LTT\n",
      "[30h 10 tive\" en contin a\n",
      "[son-rgh [Mur Digital méraent Be\n",
      "[toh-20h [bone angiatse ee oes\n",
      "[tobe [mange\n",
      "[toh-ash [Babyhapd re tri Bc\n",
      "Iitei3h [Hand aa oyHandfeutewl a ee 0.8m\"\n",
      "[Ptoh-2an [Theda rt\n",
      "[tohsian [Tennis de table i >? oes\n",
      "ianeigh [athietsme srs\n",
      "[a0h-13h30 les Fruts Frais rrr vita te ern\n",
      "[-11h-20830 [WF - Beach Handball SY 7 seo\n",
      "Pazketah [nant Roos\n",
      "[13h-18 [Hand a dounandfautewt SSCS YY 7\n",
      "high [Hand OS >? >>\n",
      "13h30-21h [Gaming eSpon I rs rr ve re\n",
      "T19h-22h [Hand 8 4 ou Handfntell SS CS (a\n",
      "2ah-22h45 [10 “Uve\" - Match EDF Férnnin France / Pays Bas SS SR CS CC OS\n",
      "[2ahis Irermetwe Public OSOOCCCSY Sp opt\n",
      "\n"
     ]
    }
   ],
   "source": [
    "print(\"Extracted Text:\\n\", extracted_text)"
   ]
  },
  {
   "cell_type": "code",
   "execution_count": 10,
   "metadata": {},
   "outputs": [],
   "source": [
    "lines = extracted_text.split('\\n')"
   ]
  },
  {
   "cell_type": "code",
   "execution_count": 11,
   "metadata": {},
   "outputs": [],
   "source": [
    "data = []\n",
    "for line in lines:\n",
    "    if line.strip():\n",
    "        columns = re.split(r'\\s{2,}', line.strip())\n",
    "        data.append(columns)"
   ]
  },
  {
   "cell_type": "code",
   "execution_count": 12,
   "metadata": {},
   "outputs": [],
   "source": [
    "df = pd.DataFrame(data)"
   ]
  },
  {
   "cell_type": "code",
   "execution_count": 13,
   "metadata": {},
   "outputs": [
    {
     "name": "stdout",
     "output_type": "stream",
     "text": [
      "Extracted DataFrame:\n",
      "                                                     0\n",
      "0   od TERRAIN BEACH HAND | TERRAINHAND 6] DEAMBUL...\n",
      "1                             |__i0n [Ouverture Pubhe\n",
      "2   [i0n-18h [Animation mur digitale -Photabooth -...\n",
      "3   [10h-16h [stand maquilage - leu avec dotation ...\n",
      "4                           [30h 10 tive\" en contin a\n",
      "5                    [son-rgh [Mur Digital méraent Be\n",
      "6                      [toh-20h [bone angiatse ee oes\n",
      "7                                        [tobe [mange\n",
      "8                        [toh-ash [Babyhapd re tri Bc\n",
      "9           Iitei3h [Hand aa oyHandfeutewl a ee 0.8m\"\n",
      "10                                [Ptoh-2an [Theda rt\n",
      "11                 [tohsian [Tennis de table i >? oes\n",
      "12                             ianeigh [athietsme srs\n",
      "13         [a0h-13h30 les Fruts Frais rrr vita te ern\n",
      "14          [-11h-20830 [WF - Beach Handball SY 7 seo\n",
      "15                                Pazketah [nant Roos\n",
      "16           [13h-18 [Hand a dounandfautewt SSCS YY 7\n",
      "17                                high [Hand OS >? >>\n",
      "18              13h30-21h [Gaming eSpon I rs rr ve re\n",
      "19          T19h-22h [Hand 8 4 ou Handfntell SS CS (a\n",
      "20  2ah-22h45 [10 “Uve\" - Match EDF Férnnin France...\n",
      "21           [2ahis Irermetwe Public OSOOCCCSY Sp opt\n"
     ]
    }
   ],
   "source": [
    "print(\"Extracted DataFrame:\\n\", df)"
   ]
  },
  {
   "cell_type": "code",
   "execution_count": 14,
   "metadata": {},
   "outputs": [],
   "source": [
    "df.to_excel('extracted_data.xlsx', index=False)"
   ]
  }
 ],
 "metadata": {
  "kernelspec": {
   "display_name": "Python 3",
   "language": "python",
   "name": "python3"
  },
  "language_info": {
   "codemirror_mode": {
    "name": "ipython",
    "version": 3
   },
   "file_extension": ".py",
   "mimetype": "text/x-python",
   "name": "python",
   "nbconvert_exporter": "python",
   "pygments_lexer": "ipython3",
   "version": "3.12.4"
  }
 },
 "nbformat": 4,
 "nbformat_minor": 2
}
